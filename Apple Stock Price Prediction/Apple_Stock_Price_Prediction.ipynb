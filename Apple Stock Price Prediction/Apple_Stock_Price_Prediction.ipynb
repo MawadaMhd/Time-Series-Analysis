{
  "cells": [
    {
      "cell_type": "markdown",
      "id": "1ff8eade-ef85-4c92-9ebf-eef8b17a74ec",
      "metadata": {
        "id": "1ff8eade-ef85-4c92-9ebf-eef8b17a74ec"
      },
      "source": [
        "# **Apple Stock Price Prediction**"
      ]
    },
    {
      "cell_type": "code",
      "execution_count": 1,
      "id": "34a1c399-134d-4c04-b9bf-ddba1beb4459",
      "metadata": {
        "id": "34a1c399-134d-4c04-b9bf-ddba1beb4459"
      },
      "outputs": [],
      "source": [
        "# Importing the libraries\n",
        "import numpy as np\n",
        "import pandas as pd\n",
        "import matplotlib.pyplot as plt\n",
        "import seaborn as sns\n",
        "from datetime import datetime\n",
        "from sklearn.preprocessing import MinMaxScaler\n",
        "from sklearn.metrics import mean_squared_error\n",
        "\n",
        "\n",
        "sns.set_style('darkgrid')"
      ]
    },
    {
      "cell_type": "code",
      "execution_count": 2,
      "id": "081d5256-2382-4cfd-b548-f37c26dc0e98",
      "metadata": {
        "id": "081d5256-2382-4cfd-b548-f37c26dc0e98"
      },
      "outputs": [],
      "source": [
        "from tensorflow.keras.models import Sequential\n",
        "from tensorflow.keras.layers import Dense, LSTM, GRU\n",
        "from tensorflow.keras.optimizers import SGD\n",
        "from tensorflow.random import set_seed"
      ]
    },
    {
      "cell_type": "code",
      "execution_count": 3,
      "id": "c61f319a-6845-4a2b-a628-6680b0f82566",
      "metadata": {
        "colab": {
          "base_uri": "https://localhost:8080/",
          "height": 206
        },
        "id": "c61f319a-6845-4a2b-a628-6680b0f82566",
        "outputId": "0aca9ab6-d82c-4dfb-80a8-380395f9b8ed"
      },
      "outputs": [
        {
          "output_type": "execute_result",
          "data": {
            "text/plain": [
              "         Date   Open   High    Low  Close     Volume  Name\n",
              "0  2006-01-03  10.34  10.68  10.32  10.68  201853036  AAPL\n",
              "1  2006-01-04  10.73  10.85  10.64  10.71  155225609  AAPL\n",
              "2  2006-01-05  10.69  10.70  10.54  10.63  112396081  AAPL\n",
              "3  2006-01-06  10.75  10.96  10.65  10.90  176139334  AAPL\n",
              "4  2006-01-09  10.96  11.03  10.82  10.86  168861224  AAPL"
            ],
            "text/html": [
              "\n",
              "  <div id=\"df-333dbdae-80e5-41f8-ba11-e956467e3ea5\" class=\"colab-df-container\">\n",
              "    <div>\n",
              "<style scoped>\n",
              "    .dataframe tbody tr th:only-of-type {\n",
              "        vertical-align: middle;\n",
              "    }\n",
              "\n",
              "    .dataframe tbody tr th {\n",
              "        vertical-align: top;\n",
              "    }\n",
              "\n",
              "    .dataframe thead th {\n",
              "        text-align: right;\n",
              "    }\n",
              "</style>\n",
              "<table border=\"1\" class=\"dataframe\">\n",
              "  <thead>\n",
              "    <tr style=\"text-align: right;\">\n",
              "      <th></th>\n",
              "      <th>Date</th>\n",
              "      <th>Open</th>\n",
              "      <th>High</th>\n",
              "      <th>Low</th>\n",
              "      <th>Close</th>\n",
              "      <th>Volume</th>\n",
              "      <th>Name</th>\n",
              "    </tr>\n",
              "  </thead>\n",
              "  <tbody>\n",
              "    <tr>\n",
              "      <th>0</th>\n",
              "      <td>2006-01-03</td>\n",
              "      <td>10.34</td>\n",
              "      <td>10.68</td>\n",
              "      <td>10.32</td>\n",
              "      <td>10.68</td>\n",
              "      <td>201853036</td>\n",
              "      <td>AAPL</td>\n",
              "    </tr>\n",
              "    <tr>\n",
              "      <th>1</th>\n",
              "      <td>2006-01-04</td>\n",
              "      <td>10.73</td>\n",
              "      <td>10.85</td>\n",
              "      <td>10.64</td>\n",
              "      <td>10.71</td>\n",
              "      <td>155225609</td>\n",
              "      <td>AAPL</td>\n",
              "    </tr>\n",
              "    <tr>\n",
              "      <th>2</th>\n",
              "      <td>2006-01-05</td>\n",
              "      <td>10.69</td>\n",
              "      <td>10.70</td>\n",
              "      <td>10.54</td>\n",
              "      <td>10.63</td>\n",
              "      <td>112396081</td>\n",
              "      <td>AAPL</td>\n",
              "    </tr>\n",
              "    <tr>\n",
              "      <th>3</th>\n",
              "      <td>2006-01-06</td>\n",
              "      <td>10.75</td>\n",
              "      <td>10.96</td>\n",
              "      <td>10.65</td>\n",
              "      <td>10.90</td>\n",
              "      <td>176139334</td>\n",
              "      <td>AAPL</td>\n",
              "    </tr>\n",
              "    <tr>\n",
              "      <th>4</th>\n",
              "      <td>2006-01-09</td>\n",
              "      <td>10.96</td>\n",
              "      <td>11.03</td>\n",
              "      <td>10.82</td>\n",
              "      <td>10.86</td>\n",
              "      <td>168861224</td>\n",
              "      <td>AAPL</td>\n",
              "    </tr>\n",
              "  </tbody>\n",
              "</table>\n",
              "</div>\n",
              "    <div class=\"colab-df-buttons\">\n",
              "\n",
              "  <div class=\"colab-df-container\">\n",
              "    <button class=\"colab-df-convert\" onclick=\"convertToInteractive('df-333dbdae-80e5-41f8-ba11-e956467e3ea5')\"\n",
              "            title=\"Convert this dataframe to an interactive table.\"\n",
              "            style=\"display:none;\">\n",
              "\n",
              "  <svg xmlns=\"http://www.w3.org/2000/svg\" height=\"24px\" viewBox=\"0 -960 960 960\">\n",
              "    <path d=\"M120-120v-720h720v720H120Zm60-500h600v-160H180v160Zm220 220h160v-160H400v160Zm0 220h160v-160H400v160ZM180-400h160v-160H180v160Zm440 0h160v-160H620v160ZM180-180h160v-160H180v160Zm440 0h160v-160H620v160Z\"/>\n",
              "  </svg>\n",
              "    </button>\n",
              "\n",
              "  <style>\n",
              "    .colab-df-container {\n",
              "      display:flex;\n",
              "      gap: 12px;\n",
              "    }\n",
              "\n",
              "    .colab-df-convert {\n",
              "      background-color: #E8F0FE;\n",
              "      border: none;\n",
              "      border-radius: 50%;\n",
              "      cursor: pointer;\n",
              "      display: none;\n",
              "      fill: #1967D2;\n",
              "      height: 32px;\n",
              "      padding: 0 0 0 0;\n",
              "      width: 32px;\n",
              "    }\n",
              "\n",
              "    .colab-df-convert:hover {\n",
              "      background-color: #E2EBFA;\n",
              "      box-shadow: 0px 1px 2px rgba(60, 64, 67, 0.3), 0px 1px 3px 1px rgba(60, 64, 67, 0.15);\n",
              "      fill: #174EA6;\n",
              "    }\n",
              "\n",
              "    .colab-df-buttons div {\n",
              "      margin-bottom: 4px;\n",
              "    }\n",
              "\n",
              "    [theme=dark] .colab-df-convert {\n",
              "      background-color: #3B4455;\n",
              "      fill: #D2E3FC;\n",
              "    }\n",
              "\n",
              "    [theme=dark] .colab-df-convert:hover {\n",
              "      background-color: #434B5C;\n",
              "      box-shadow: 0px 1px 3px 1px rgba(0, 0, 0, 0.15);\n",
              "      filter: drop-shadow(0px 1px 2px rgba(0, 0, 0, 0.3));\n",
              "      fill: #FFFFFF;\n",
              "    }\n",
              "  </style>\n",
              "\n",
              "    <script>\n",
              "      const buttonEl =\n",
              "        document.querySelector('#df-333dbdae-80e5-41f8-ba11-e956467e3ea5 button.colab-df-convert');\n",
              "      buttonEl.style.display =\n",
              "        google.colab.kernel.accessAllowed ? 'block' : 'none';\n",
              "\n",
              "      async function convertToInteractive(key) {\n",
              "        const element = document.querySelector('#df-333dbdae-80e5-41f8-ba11-e956467e3ea5');\n",
              "        const dataTable =\n",
              "          await google.colab.kernel.invokeFunction('convertToInteractive',\n",
              "                                                    [key], {});\n",
              "        if (!dataTable) return;\n",
              "\n",
              "        const docLinkHtml = 'Like what you see? Visit the ' +\n",
              "          '<a target=\"_blank\" href=https://colab.research.google.com/notebooks/data_table.ipynb>data table notebook</a>'\n",
              "          + ' to learn more about interactive tables.';\n",
              "        element.innerHTML = '';\n",
              "        dataTable['output_type'] = 'display_data';\n",
              "        await google.colab.output.renderOutput(dataTable, element);\n",
              "        const docLink = document.createElement('div');\n",
              "        docLink.innerHTML = docLinkHtml;\n",
              "        element.appendChild(docLink);\n",
              "      }\n",
              "    </script>\n",
              "  </div>\n",
              "\n",
              "\n",
              "<div id=\"df-42dcbb8d-a15e-49ec-b249-d445cf6cc852\">\n",
              "  <button class=\"colab-df-quickchart\" onclick=\"quickchart('df-42dcbb8d-a15e-49ec-b249-d445cf6cc852')\"\n",
              "            title=\"Suggest charts\"\n",
              "            style=\"display:none;\">\n",
              "\n",
              "<svg xmlns=\"http://www.w3.org/2000/svg\" height=\"24px\"viewBox=\"0 0 24 24\"\n",
              "     width=\"24px\">\n",
              "    <g>\n",
              "        <path d=\"M19 3H5c-1.1 0-2 .9-2 2v14c0 1.1.9 2 2 2h14c1.1 0 2-.9 2-2V5c0-1.1-.9-2-2-2zM9 17H7v-7h2v7zm4 0h-2V7h2v10zm4 0h-2v-4h2v4z\"/>\n",
              "    </g>\n",
              "</svg>\n",
              "  </button>\n",
              "\n",
              "<style>\n",
              "  .colab-df-quickchart {\n",
              "      --bg-color: #E8F0FE;\n",
              "      --fill-color: #1967D2;\n",
              "      --hover-bg-color: #E2EBFA;\n",
              "      --hover-fill-color: #174EA6;\n",
              "      --disabled-fill-color: #AAA;\n",
              "      --disabled-bg-color: #DDD;\n",
              "  }\n",
              "\n",
              "  [theme=dark] .colab-df-quickchart {\n",
              "      --bg-color: #3B4455;\n",
              "      --fill-color: #D2E3FC;\n",
              "      --hover-bg-color: #434B5C;\n",
              "      --hover-fill-color: #FFFFFF;\n",
              "      --disabled-bg-color: #3B4455;\n",
              "      --disabled-fill-color: #666;\n",
              "  }\n",
              "\n",
              "  .colab-df-quickchart {\n",
              "    background-color: var(--bg-color);\n",
              "    border: none;\n",
              "    border-radius: 50%;\n",
              "    cursor: pointer;\n",
              "    display: none;\n",
              "    fill: var(--fill-color);\n",
              "    height: 32px;\n",
              "    padding: 0;\n",
              "    width: 32px;\n",
              "  }\n",
              "\n",
              "  .colab-df-quickchart:hover {\n",
              "    background-color: var(--hover-bg-color);\n",
              "    box-shadow: 0 1px 2px rgba(60, 64, 67, 0.3), 0 1px 3px 1px rgba(60, 64, 67, 0.15);\n",
              "    fill: var(--button-hover-fill-color);\n",
              "  }\n",
              "\n",
              "  .colab-df-quickchart-complete:disabled,\n",
              "  .colab-df-quickchart-complete:disabled:hover {\n",
              "    background-color: var(--disabled-bg-color);\n",
              "    fill: var(--disabled-fill-color);\n",
              "    box-shadow: none;\n",
              "  }\n",
              "\n",
              "  .colab-df-spinner {\n",
              "    border: 2px solid var(--fill-color);\n",
              "    border-color: transparent;\n",
              "    border-bottom-color: var(--fill-color);\n",
              "    animation:\n",
              "      spin 1s steps(1) infinite;\n",
              "  }\n",
              "\n",
              "  @keyframes spin {\n",
              "    0% {\n",
              "      border-color: transparent;\n",
              "      border-bottom-color: var(--fill-color);\n",
              "      border-left-color: var(--fill-color);\n",
              "    }\n",
              "    20% {\n",
              "      border-color: transparent;\n",
              "      border-left-color: var(--fill-color);\n",
              "      border-top-color: var(--fill-color);\n",
              "    }\n",
              "    30% {\n",
              "      border-color: transparent;\n",
              "      border-left-color: var(--fill-color);\n",
              "      border-top-color: var(--fill-color);\n",
              "      border-right-color: var(--fill-color);\n",
              "    }\n",
              "    40% {\n",
              "      border-color: transparent;\n",
              "      border-right-color: var(--fill-color);\n",
              "      border-top-color: var(--fill-color);\n",
              "    }\n",
              "    60% {\n",
              "      border-color: transparent;\n",
              "      border-right-color: var(--fill-color);\n",
              "    }\n",
              "    80% {\n",
              "      border-color: transparent;\n",
              "      border-right-color: var(--fill-color);\n",
              "      border-bottom-color: var(--fill-color);\n",
              "    }\n",
              "    90% {\n",
              "      border-color: transparent;\n",
              "      border-bottom-color: var(--fill-color);\n",
              "    }\n",
              "  }\n",
              "</style>\n",
              "\n",
              "  <script>\n",
              "    async function quickchart(key) {\n",
              "      const quickchartButtonEl =\n",
              "        document.querySelector('#' + key + ' button');\n",
              "      quickchartButtonEl.disabled = true;  // To prevent multiple clicks.\n",
              "      quickchartButtonEl.classList.add('colab-df-spinner');\n",
              "      try {\n",
              "        const charts = await google.colab.kernel.invokeFunction(\n",
              "            'suggestCharts', [key], {});\n",
              "      } catch (error) {\n",
              "        console.error('Error during call to suggestCharts:', error);\n",
              "      }\n",
              "      quickchartButtonEl.classList.remove('colab-df-spinner');\n",
              "      quickchartButtonEl.classList.add('colab-df-quickchart-complete');\n",
              "    }\n",
              "    (() => {\n",
              "      let quickchartButtonEl =\n",
              "        document.querySelector('#df-42dcbb8d-a15e-49ec-b249-d445cf6cc852 button');\n",
              "      quickchartButtonEl.style.display =\n",
              "        google.colab.kernel.accessAllowed ? 'block' : 'none';\n",
              "    })();\n",
              "  </script>\n",
              "</div>\n",
              "\n",
              "    </div>\n",
              "  </div>\n"
            ],
            "application/vnd.google.colaboratory.intrinsic+json": {
              "type": "dataframe",
              "variable_name": "df",
              "summary": "{\n  \"name\": \"df\",\n  \"rows\": 3019,\n  \"fields\": [\n    {\n      \"column\": \"Date\",\n      \"properties\": {\n        \"dtype\": \"object\",\n        \"num_unique_values\": 3019,\n        \"samples\": [\n          \"2011-08-11\",\n          \"2012-03-20\",\n          \"2006-10-23\"\n        ],\n        \"semantic_type\": \"\",\n        \"description\": \"\"\n      }\n    },\n    {\n      \"column\": \"Open\",\n      \"properties\": {\n        \"dtype\": \"number\",\n        \"std\": 44.52492682116733,\n        \"min\": 7.39,\n        \"max\": 175.11,\n        \"num_unique_values\": 2630,\n        \"samples\": [\n          12.18,\n          20.62,\n          35.95\n        ],\n        \"semantic_type\": \"\",\n        \"description\": \"\"\n      }\n    },\n    {\n      \"column\": \"High\",\n      \"properties\": {\n        \"dtype\": \"number\",\n        \"std\": 44.81177185659478,\n        \"min\": 7.56,\n        \"max\": 177.2,\n        \"num_unique_values\": 2579,\n        \"samples\": [\n          34.56,\n          121.39,\n          30.13\n        ],\n        \"semantic_type\": \"\",\n        \"description\": \"\"\n      }\n    },\n    {\n      \"column\": \"Low\",\n      \"properties\": {\n        \"dtype\": \"number\",\n        \"std\": 44.2308293711153,\n        \"min\": 7.17,\n        \"max\": 174.86,\n        \"num_unique_values\": 2575,\n        \"samples\": [\n          73.38,\n          55.63,\n          25.98\n        ],\n        \"semantic_type\": \"\",\n        \"description\": \"\"\n      }\n    },\n    {\n      \"column\": \"Close\",\n      \"properties\": {\n        \"dtype\": \"number\",\n        \"std\": 44.53644821232358,\n        \"min\": 7.24,\n        \"max\": 176.42,\n        \"num_unique_values\": 2579,\n        \"samples\": [\n          33.69,\n          121.63,\n          30.63\n        ],\n        \"semantic_type\": \"\",\n        \"description\": \"\"\n      }\n    },\n    {\n      \"column\": \"Volume\",\n      \"properties\": {\n        \"dtype\": \"number\",\n        \"std\": 101855966,\n        \"min\": 11475922,\n        \"max\": 843264044,\n        \"num_unique_values\": 3019,\n        \"samples\": [\n          185491110,\n          204167033,\n          208175492\n        ],\n        \"semantic_type\": \"\",\n        \"description\": \"\"\n      }\n    },\n    {\n      \"column\": \"Name\",\n      \"properties\": {\n        \"dtype\": \"category\",\n        \"num_unique_values\": 1,\n        \"samples\": [\n          \"AAPL\"\n        ],\n        \"semantic_type\": \"\",\n        \"description\": \"\"\n      }\n    }\n  ]\n}"
            }
          },
          "metadata": {},
          "execution_count": 3
        }
      ],
      "source": [
        "path = \"AAPL_2006-01-01_to_2018-01-01.csv\"\n",
        "df = pd.read_csv(path)\n",
        "df.head()"
      ]
    },
    {
      "cell_type": "code",
      "execution_count": 4,
      "id": "dcfc9a3b-84e7-4609-8d45-2df12509a3cc",
      "metadata": {
        "colab": {
          "base_uri": "https://localhost:8080/"
        },
        "id": "dcfc9a3b-84e7-4609-8d45-2df12509a3cc",
        "outputId": "a7f601fc-e3ab-4b6d-cdfe-466fba92ee4b"
      },
      "outputs": [
        {
          "output_type": "execute_result",
          "data": {
            "text/plain": [
              "Date       object\n",
              "Open      float64\n",
              "High      float64\n",
              "Low       float64\n",
              "Close     float64\n",
              "Volume      int64\n",
              "Name       object\n",
              "dtype: object"
            ]
          },
          "metadata": {},
          "execution_count": 4
        }
      ],
      "source": [
        "df.dtypes"
      ]
    },
    {
      "cell_type": "code",
      "execution_count": 5,
      "id": "33630d93-1579-4465-b90a-143ab3200678",
      "metadata": {
        "colab": {
          "base_uri": "https://localhost:8080/",
          "height": 238
        },
        "id": "33630d93-1579-4465-b90a-143ab3200678",
        "outputId": "aceff879-d25b-4ed6-bb38-c1d1b4728927"
      },
      "outputs": [
        {
          "output_type": "execute_result",
          "data": {
            "text/plain": [
              "             Open   High    Low  Close     Volume  Name\n",
              "Date                                                   \n",
              "2006-01-03  10.34  10.68  10.32  10.68  201853036  AAPL\n",
              "2006-01-04  10.73  10.85  10.64  10.71  155225609  AAPL\n",
              "2006-01-05  10.69  10.70  10.54  10.63  112396081  AAPL\n",
              "2006-01-06  10.75  10.96  10.65  10.90  176139334  AAPL\n",
              "2006-01-09  10.96  11.03  10.82  10.86  168861224  AAPL"
            ],
            "text/html": [
              "\n",
              "  <div id=\"df-27c023e8-c238-4c3b-9058-4c4de511f094\" class=\"colab-df-container\">\n",
              "    <div>\n",
              "<style scoped>\n",
              "    .dataframe tbody tr th:only-of-type {\n",
              "        vertical-align: middle;\n",
              "    }\n",
              "\n",
              "    .dataframe tbody tr th {\n",
              "        vertical-align: top;\n",
              "    }\n",
              "\n",
              "    .dataframe thead th {\n",
              "        text-align: right;\n",
              "    }\n",
              "</style>\n",
              "<table border=\"1\" class=\"dataframe\">\n",
              "  <thead>\n",
              "    <tr style=\"text-align: right;\">\n",
              "      <th></th>\n",
              "      <th>Open</th>\n",
              "      <th>High</th>\n",
              "      <th>Low</th>\n",
              "      <th>Close</th>\n",
              "      <th>Volume</th>\n",
              "      <th>Name</th>\n",
              "    </tr>\n",
              "    <tr>\n",
              "      <th>Date</th>\n",
              "      <th></th>\n",
              "      <th></th>\n",
              "      <th></th>\n",
              "      <th></th>\n",
              "      <th></th>\n",
              "      <th></th>\n",
              "    </tr>\n",
              "  </thead>\n",
              "  <tbody>\n",
              "    <tr>\n",
              "      <th>2006-01-03</th>\n",
              "      <td>10.34</td>\n",
              "      <td>10.68</td>\n",
              "      <td>10.32</td>\n",
              "      <td>10.68</td>\n",
              "      <td>201853036</td>\n",
              "      <td>AAPL</td>\n",
              "    </tr>\n",
              "    <tr>\n",
              "      <th>2006-01-04</th>\n",
              "      <td>10.73</td>\n",
              "      <td>10.85</td>\n",
              "      <td>10.64</td>\n",
              "      <td>10.71</td>\n",
              "      <td>155225609</td>\n",
              "      <td>AAPL</td>\n",
              "    </tr>\n",
              "    <tr>\n",
              "      <th>2006-01-05</th>\n",
              "      <td>10.69</td>\n",
              "      <td>10.70</td>\n",
              "      <td>10.54</td>\n",
              "      <td>10.63</td>\n",
              "      <td>112396081</td>\n",
              "      <td>AAPL</td>\n",
              "    </tr>\n",
              "    <tr>\n",
              "      <th>2006-01-06</th>\n",
              "      <td>10.75</td>\n",
              "      <td>10.96</td>\n",
              "      <td>10.65</td>\n",
              "      <td>10.90</td>\n",
              "      <td>176139334</td>\n",
              "      <td>AAPL</td>\n",
              "    </tr>\n",
              "    <tr>\n",
              "      <th>2006-01-09</th>\n",
              "      <td>10.96</td>\n",
              "      <td>11.03</td>\n",
              "      <td>10.82</td>\n",
              "      <td>10.86</td>\n",
              "      <td>168861224</td>\n",
              "      <td>AAPL</td>\n",
              "    </tr>\n",
              "  </tbody>\n",
              "</table>\n",
              "</div>\n",
              "    <div class=\"colab-df-buttons\">\n",
              "\n",
              "  <div class=\"colab-df-container\">\n",
              "    <button class=\"colab-df-convert\" onclick=\"convertToInteractive('df-27c023e8-c238-4c3b-9058-4c4de511f094')\"\n",
              "            title=\"Convert this dataframe to an interactive table.\"\n",
              "            style=\"display:none;\">\n",
              "\n",
              "  <svg xmlns=\"http://www.w3.org/2000/svg\" height=\"24px\" viewBox=\"0 -960 960 960\">\n",
              "    <path d=\"M120-120v-720h720v720H120Zm60-500h600v-160H180v160Zm220 220h160v-160H400v160Zm0 220h160v-160H400v160ZM180-400h160v-160H180v160Zm440 0h160v-160H620v160ZM180-180h160v-160H180v160Zm440 0h160v-160H620v160Z\"/>\n",
              "  </svg>\n",
              "    </button>\n",
              "\n",
              "  <style>\n",
              "    .colab-df-container {\n",
              "      display:flex;\n",
              "      gap: 12px;\n",
              "    }\n",
              "\n",
              "    .colab-df-convert {\n",
              "      background-color: #E8F0FE;\n",
              "      border: none;\n",
              "      border-radius: 50%;\n",
              "      cursor: pointer;\n",
              "      display: none;\n",
              "      fill: #1967D2;\n",
              "      height: 32px;\n",
              "      padding: 0 0 0 0;\n",
              "      width: 32px;\n",
              "    }\n",
              "\n",
              "    .colab-df-convert:hover {\n",
              "      background-color: #E2EBFA;\n",
              "      box-shadow: 0px 1px 2px rgba(60, 64, 67, 0.3), 0px 1px 3px 1px rgba(60, 64, 67, 0.15);\n",
              "      fill: #174EA6;\n",
              "    }\n",
              "\n",
              "    .colab-df-buttons div {\n",
              "      margin-bottom: 4px;\n",
              "    }\n",
              "\n",
              "    [theme=dark] .colab-df-convert {\n",
              "      background-color: #3B4455;\n",
              "      fill: #D2E3FC;\n",
              "    }\n",
              "\n",
              "    [theme=dark] .colab-df-convert:hover {\n",
              "      background-color: #434B5C;\n",
              "      box-shadow: 0px 1px 3px 1px rgba(0, 0, 0, 0.15);\n",
              "      filter: drop-shadow(0px 1px 2px rgba(0, 0, 0, 0.3));\n",
              "      fill: #FFFFFF;\n",
              "    }\n",
              "  </style>\n",
              "\n",
              "    <script>\n",
              "      const buttonEl =\n",
              "        document.querySelector('#df-27c023e8-c238-4c3b-9058-4c4de511f094 button.colab-df-convert');\n",
              "      buttonEl.style.display =\n",
              "        google.colab.kernel.accessAllowed ? 'block' : 'none';\n",
              "\n",
              "      async function convertToInteractive(key) {\n",
              "        const element = document.querySelector('#df-27c023e8-c238-4c3b-9058-4c4de511f094');\n",
              "        const dataTable =\n",
              "          await google.colab.kernel.invokeFunction('convertToInteractive',\n",
              "                                                    [key], {});\n",
              "        if (!dataTable) return;\n",
              "\n",
              "        const docLinkHtml = 'Like what you see? Visit the ' +\n",
              "          '<a target=\"_blank\" href=https://colab.research.google.com/notebooks/data_table.ipynb>data table notebook</a>'\n",
              "          + ' to learn more about interactive tables.';\n",
              "        element.innerHTML = '';\n",
              "        dataTable['output_type'] = 'display_data';\n",
              "        await google.colab.output.renderOutput(dataTable, element);\n",
              "        const docLink = document.createElement('div');\n",
              "        docLink.innerHTML = docLinkHtml;\n",
              "        element.appendChild(docLink);\n",
              "      }\n",
              "    </script>\n",
              "  </div>\n",
              "\n",
              "\n",
              "<div id=\"df-bc443653-46a5-4de2-9260-cf40f3229124\">\n",
              "  <button class=\"colab-df-quickchart\" onclick=\"quickchart('df-bc443653-46a5-4de2-9260-cf40f3229124')\"\n",
              "            title=\"Suggest charts\"\n",
              "            style=\"display:none;\">\n",
              "\n",
              "<svg xmlns=\"http://www.w3.org/2000/svg\" height=\"24px\"viewBox=\"0 0 24 24\"\n",
              "     width=\"24px\">\n",
              "    <g>\n",
              "        <path d=\"M19 3H5c-1.1 0-2 .9-2 2v14c0 1.1.9 2 2 2h14c1.1 0 2-.9 2-2V5c0-1.1-.9-2-2-2zM9 17H7v-7h2v7zm4 0h-2V7h2v10zm4 0h-2v-4h2v4z\"/>\n",
              "    </g>\n",
              "</svg>\n",
              "  </button>\n",
              "\n",
              "<style>\n",
              "  .colab-df-quickchart {\n",
              "      --bg-color: #E8F0FE;\n",
              "      --fill-color: #1967D2;\n",
              "      --hover-bg-color: #E2EBFA;\n",
              "      --hover-fill-color: #174EA6;\n",
              "      --disabled-fill-color: #AAA;\n",
              "      --disabled-bg-color: #DDD;\n",
              "  }\n",
              "\n",
              "  [theme=dark] .colab-df-quickchart {\n",
              "      --bg-color: #3B4455;\n",
              "      --fill-color: #D2E3FC;\n",
              "      --hover-bg-color: #434B5C;\n",
              "      --hover-fill-color: #FFFFFF;\n",
              "      --disabled-bg-color: #3B4455;\n",
              "      --disabled-fill-color: #666;\n",
              "  }\n",
              "\n",
              "  .colab-df-quickchart {\n",
              "    background-color: var(--bg-color);\n",
              "    border: none;\n",
              "    border-radius: 50%;\n",
              "    cursor: pointer;\n",
              "    display: none;\n",
              "    fill: var(--fill-color);\n",
              "    height: 32px;\n",
              "    padding: 0;\n",
              "    width: 32px;\n",
              "  }\n",
              "\n",
              "  .colab-df-quickchart:hover {\n",
              "    background-color: var(--hover-bg-color);\n",
              "    box-shadow: 0 1px 2px rgba(60, 64, 67, 0.3), 0 1px 3px 1px rgba(60, 64, 67, 0.15);\n",
              "    fill: var(--button-hover-fill-color);\n",
              "  }\n",
              "\n",
              "  .colab-df-quickchart-complete:disabled,\n",
              "  .colab-df-quickchart-complete:disabled:hover {\n",
              "    background-color: var(--disabled-bg-color);\n",
              "    fill: var(--disabled-fill-color);\n",
              "    box-shadow: none;\n",
              "  }\n",
              "\n",
              "  .colab-df-spinner {\n",
              "    border: 2px solid var(--fill-color);\n",
              "    border-color: transparent;\n",
              "    border-bottom-color: var(--fill-color);\n",
              "    animation:\n",
              "      spin 1s steps(1) infinite;\n",
              "  }\n",
              "\n",
              "  @keyframes spin {\n",
              "    0% {\n",
              "      border-color: transparent;\n",
              "      border-bottom-color: var(--fill-color);\n",
              "      border-left-color: var(--fill-color);\n",
              "    }\n",
              "    20% {\n",
              "      border-color: transparent;\n",
              "      border-left-color: var(--fill-color);\n",
              "      border-top-color: var(--fill-color);\n",
              "    }\n",
              "    30% {\n",
              "      border-color: transparent;\n",
              "      border-left-color: var(--fill-color);\n",
              "      border-top-color: var(--fill-color);\n",
              "      border-right-color: var(--fill-color);\n",
              "    }\n",
              "    40% {\n",
              "      border-color: transparent;\n",
              "      border-right-color: var(--fill-color);\n",
              "      border-top-color: var(--fill-color);\n",
              "    }\n",
              "    60% {\n",
              "      border-color: transparent;\n",
              "      border-right-color: var(--fill-color);\n",
              "    }\n",
              "    80% {\n",
              "      border-color: transparent;\n",
              "      border-right-color: var(--fill-color);\n",
              "      border-bottom-color: var(--fill-color);\n",
              "    }\n",
              "    90% {\n",
              "      border-color: transparent;\n",
              "      border-bottom-color: var(--fill-color);\n",
              "    }\n",
              "  }\n",
              "</style>\n",
              "\n",
              "  <script>\n",
              "    async function quickchart(key) {\n",
              "      const quickchartButtonEl =\n",
              "        document.querySelector('#' + key + ' button');\n",
              "      quickchartButtonEl.disabled = true;  // To prevent multiple clicks.\n",
              "      quickchartButtonEl.classList.add('colab-df-spinner');\n",
              "      try {\n",
              "        const charts = await google.colab.kernel.invokeFunction(\n",
              "            'suggestCharts', [key], {});\n",
              "      } catch (error) {\n",
              "        console.error('Error during call to suggestCharts:', error);\n",
              "      }\n",
              "      quickchartButtonEl.classList.remove('colab-df-spinner');\n",
              "      quickchartButtonEl.classList.add('colab-df-quickchart-complete');\n",
              "    }\n",
              "    (() => {\n",
              "      let quickchartButtonEl =\n",
              "        document.querySelector('#df-bc443653-46a5-4de2-9260-cf40f3229124 button');\n",
              "      quickchartButtonEl.style.display =\n",
              "        google.colab.kernel.accessAllowed ? 'block' : 'none';\n",
              "    })();\n",
              "  </script>\n",
              "</div>\n",
              "\n",
              "    </div>\n",
              "  </div>\n"
            ],
            "application/vnd.google.colaboratory.intrinsic+json": {
              "type": "dataframe",
              "variable_name": "df",
              "summary": "{\n  \"name\": \"df\",\n  \"rows\": 3019,\n  \"fields\": [\n    {\n      \"column\": \"Date\",\n      \"properties\": {\n        \"dtype\": \"date\",\n        \"min\": \"2006-01-03 00:00:00\",\n        \"max\": \"2017-12-29 00:00:00\",\n        \"num_unique_values\": 3019,\n        \"samples\": [\n          \"2011-08-11 00:00:00\",\n          \"2012-03-20 00:00:00\",\n          \"2006-10-23 00:00:00\"\n        ],\n        \"semantic_type\": \"\",\n        \"description\": \"\"\n      }\n    },\n    {\n      \"column\": \"Open\",\n      \"properties\": {\n        \"dtype\": \"number\",\n        \"std\": 44.52492682116733,\n        \"min\": 7.39,\n        \"max\": 175.11,\n        \"num_unique_values\": 2630,\n        \"samples\": [\n          12.18,\n          20.62,\n          35.95\n        ],\n        \"semantic_type\": \"\",\n        \"description\": \"\"\n      }\n    },\n    {\n      \"column\": \"High\",\n      \"properties\": {\n        \"dtype\": \"number\",\n        \"std\": 44.81177185659478,\n        \"min\": 7.56,\n        \"max\": 177.2,\n        \"num_unique_values\": 2579,\n        \"samples\": [\n          34.56,\n          121.39,\n          30.13\n        ],\n        \"semantic_type\": \"\",\n        \"description\": \"\"\n      }\n    },\n    {\n      \"column\": \"Low\",\n      \"properties\": {\n        \"dtype\": \"number\",\n        \"std\": 44.2308293711153,\n        \"min\": 7.17,\n        \"max\": 174.86,\n        \"num_unique_values\": 2575,\n        \"samples\": [\n          73.38,\n          55.63,\n          25.98\n        ],\n        \"semantic_type\": \"\",\n        \"description\": \"\"\n      }\n    },\n    {\n      \"column\": \"Close\",\n      \"properties\": {\n        \"dtype\": \"number\",\n        \"std\": 44.53644821232358,\n        \"min\": 7.24,\n        \"max\": 176.42,\n        \"num_unique_values\": 2579,\n        \"samples\": [\n          33.69,\n          121.63,\n          30.63\n        ],\n        \"semantic_type\": \"\",\n        \"description\": \"\"\n      }\n    },\n    {\n      \"column\": \"Volume\",\n      \"properties\": {\n        \"dtype\": \"number\",\n        \"std\": 101855966,\n        \"min\": 11475922,\n        \"max\": 843264044,\n        \"num_unique_values\": 3019,\n        \"samples\": [\n          185491110,\n          204167033,\n          208175492\n        ],\n        \"semantic_type\": \"\",\n        \"description\": \"\"\n      }\n    },\n    {\n      \"column\": \"Name\",\n      \"properties\": {\n        \"dtype\": \"category\",\n        \"num_unique_values\": 1,\n        \"samples\": [\n          \"AAPL\"\n        ],\n        \"semantic_type\": \"\",\n        \"description\": \"\"\n      }\n    }\n  ]\n}"
            }
          },
          "metadata": {},
          "execution_count": 5
        }
      ],
      "source": [
        "df[\"Date\"] = pd.to_datetime(df[\"Date\"])\n",
        "df.set_index(\"Date\" ,inplace = True)\n",
        "df.head()"
      ]
    },
    {
      "cell_type": "markdown",
      "id": "e1fa9512-8d5f-4b7a-90a9-3a94289d72e8",
      "metadata": {
        "id": "e1fa9512-8d5f-4b7a-90a9-3a94289d72e8"
      },
      "source": [
        "## EDA"
      ]
    },
    {
      "cell_type": "code",
      "execution_count": 6,
      "id": "c1bbf934-24c0-41bf-ae13-12378919e494",
      "metadata": {
        "colab": {
          "base_uri": "https://localhost:8080/"
        },
        "id": "c1bbf934-24c0-41bf-ae13-12378919e494",
        "outputId": "5f3b07f0-3986-4b80-e690-ade376cc9c4d"
      },
      "outputs": [
        {
          "output_type": "execute_result",
          "data": {
            "text/plain": [
              "(3019, 6)"
            ]
          },
          "metadata": {},
          "execution_count": 6
        }
      ],
      "source": [
        "df.shape"
      ]
    },
    {
      "cell_type": "code",
      "execution_count": 7,
      "id": "22c706d7-5d2a-4a32-a02c-2c044ecf905d",
      "metadata": {
        "colab": {
          "base_uri": "https://localhost:8080/",
          "height": 238
        },
        "id": "22c706d7-5d2a-4a32-a02c-2c044ecf905d",
        "outputId": "a6ec6d23-d30f-4999-f157-e651f426555a"
      },
      "outputs": [
        {
          "output_type": "execute_result",
          "data": {
            "text/plain": [
              "<pandas.io.formats.style.Styler at 0x7b321c13dd50>"
            ],
            "text/html": [
              "<style type=\"text/css\">\n",
              "#T_7c835_row0_col1, #T_7c835_row0_col2, #T_7c835_row0_col4, #T_7c835_row1_col1, #T_7c835_row1_col2, #T_7c835_row1_col4, #T_7c835_row2_col1, #T_7c835_row2_col2, #T_7c835_row2_col4, #T_7c835_row3_col1, #T_7c835_row3_col2, #T_7c835_row3_col4, #T_7c835_row4_col1, #T_7c835_row4_col2, #T_7c835_row4_col4, #T_7c835_row5_col1, #T_7c835_row5_col2, #T_7c835_row5_col3, #T_7c835_row5_col4 {\n",
              "  background-color: #f7fbff;\n",
              "  color: #000000;\n",
              "}\n",
              "#T_7c835_row0_col3 {\n",
              "  background-color: #08519c;\n",
              "  color: #f1f1f1;\n",
              "}\n",
              "#T_7c835_row1_col3, #T_7c835_row2_col3, #T_7c835_row3_col3 {\n",
              "  background-color: #0c56a0;\n",
              "  color: #f1f1f1;\n",
              "}\n",
              "#T_7c835_row4_col3 {\n",
              "  background-color: #08306b;\n",
              "  color: #f1f1f1;\n",
              "}\n",
              "</style>\n",
              "<table id=\"T_7c835\" class=\"dataframe\">\n",
              "  <thead>\n",
              "    <tr>\n",
              "      <th class=\"blank level0\" >&nbsp;</th>\n",
              "      <th id=\"T_7c835_level0_col0\" class=\"col_heading level0 col0\" >dtypes</th>\n",
              "      <th id=\"T_7c835_level0_col1\" class=\"col_heading level0 col1\" >Missing#</th>\n",
              "      <th id=\"T_7c835_level0_col2\" class=\"col_heading level0 col2\" >Duplicates</th>\n",
              "      <th id=\"T_7c835_level0_col3\" class=\"col_heading level0 col3\" >Unique</th>\n",
              "      <th id=\"T_7c835_level0_col4\" class=\"col_heading level0 col4\" >Count</th>\n",
              "    </tr>\n",
              "  </thead>\n",
              "  <tbody>\n",
              "    <tr>\n",
              "      <th id=\"T_7c835_level0_row0\" class=\"row_heading level0 row0\" >Open</th>\n",
              "      <td id=\"T_7c835_row0_col0\" class=\"data row0 col0\" >float64</td>\n",
              "      <td id=\"T_7c835_row0_col1\" class=\"data row0 col1\" >0</td>\n",
              "      <td id=\"T_7c835_row0_col2\" class=\"data row0 col2\" >0</td>\n",
              "      <td id=\"T_7c835_row0_col3\" class=\"data row0 col3\" >2630</td>\n",
              "      <td id=\"T_7c835_row0_col4\" class=\"data row0 col4\" >3019</td>\n",
              "    </tr>\n",
              "    <tr>\n",
              "      <th id=\"T_7c835_level0_row1\" class=\"row_heading level0 row1\" >High</th>\n",
              "      <td id=\"T_7c835_row1_col0\" class=\"data row1 col0\" >float64</td>\n",
              "      <td id=\"T_7c835_row1_col1\" class=\"data row1 col1\" >0</td>\n",
              "      <td id=\"T_7c835_row1_col2\" class=\"data row1 col2\" >0</td>\n",
              "      <td id=\"T_7c835_row1_col3\" class=\"data row1 col3\" >2579</td>\n",
              "      <td id=\"T_7c835_row1_col4\" class=\"data row1 col4\" >3019</td>\n",
              "    </tr>\n",
              "    <tr>\n",
              "      <th id=\"T_7c835_level0_row2\" class=\"row_heading level0 row2\" >Low</th>\n",
              "      <td id=\"T_7c835_row2_col0\" class=\"data row2 col0\" >float64</td>\n",
              "      <td id=\"T_7c835_row2_col1\" class=\"data row2 col1\" >0</td>\n",
              "      <td id=\"T_7c835_row2_col2\" class=\"data row2 col2\" >0</td>\n",
              "      <td id=\"T_7c835_row2_col3\" class=\"data row2 col3\" >2575</td>\n",
              "      <td id=\"T_7c835_row2_col4\" class=\"data row2 col4\" >3019</td>\n",
              "    </tr>\n",
              "    <tr>\n",
              "      <th id=\"T_7c835_level0_row3\" class=\"row_heading level0 row3\" >Close</th>\n",
              "      <td id=\"T_7c835_row3_col0\" class=\"data row3 col0\" >float64</td>\n",
              "      <td id=\"T_7c835_row3_col1\" class=\"data row3 col1\" >0</td>\n",
              "      <td id=\"T_7c835_row3_col2\" class=\"data row3 col2\" >0</td>\n",
              "      <td id=\"T_7c835_row3_col3\" class=\"data row3 col3\" >2579</td>\n",
              "      <td id=\"T_7c835_row3_col4\" class=\"data row3 col4\" >3019</td>\n",
              "    </tr>\n",
              "    <tr>\n",
              "      <th id=\"T_7c835_level0_row4\" class=\"row_heading level0 row4\" >Volume</th>\n",
              "      <td id=\"T_7c835_row4_col0\" class=\"data row4 col0\" >int64</td>\n",
              "      <td id=\"T_7c835_row4_col1\" class=\"data row4 col1\" >0</td>\n",
              "      <td id=\"T_7c835_row4_col2\" class=\"data row4 col2\" >0</td>\n",
              "      <td id=\"T_7c835_row4_col3\" class=\"data row4 col3\" >3019</td>\n",
              "      <td id=\"T_7c835_row4_col4\" class=\"data row4 col4\" >3019</td>\n",
              "    </tr>\n",
              "    <tr>\n",
              "      <th id=\"T_7c835_level0_row5\" class=\"row_heading level0 row5\" >Name</th>\n",
              "      <td id=\"T_7c835_row5_col0\" class=\"data row5 col0\" >object</td>\n",
              "      <td id=\"T_7c835_row5_col1\" class=\"data row5 col1\" >0</td>\n",
              "      <td id=\"T_7c835_row5_col2\" class=\"data row5 col2\" >0</td>\n",
              "      <td id=\"T_7c835_row5_col3\" class=\"data row5 col3\" >1</td>\n",
              "      <td id=\"T_7c835_row5_col4\" class=\"data row5 col4\" >3019</td>\n",
              "    </tr>\n",
              "  </tbody>\n",
              "</table>\n"
            ]
          },
          "metadata": {},
          "execution_count": 7
        }
      ],
      "source": [
        "# Checking for missing values and duplicates\n",
        "def summary(df):\n",
        "    summary_df = pd.DataFrame(df.dtypes, columns=['dtypes'])\n",
        "    summary_df['Missing#'] = df.isna().sum()\n",
        "    summary_df['Duplicates'] = df.duplicated().sum()\n",
        "    summary_df['Unique'] = df.nunique().values\n",
        "    summary_df['Count'] = df.count().values\n",
        "    return summary_df\n",
        "\n",
        "summary(df).style.background_gradient(cmap='Blues')"
      ]
    },
    {
      "cell_type": "code",
      "execution_count": 8,
      "id": "30da2ad3-538f-40c1-b464-832798b5660f",
      "metadata": {
        "id": "30da2ad3-538f-40c1-b464-832798b5660f"
      },
      "outputs": [],
      "source": [
        "df.drop(['Name'], axis =1, inplace = True)"
      ]
    },
    {
      "cell_type": "code",
      "execution_count": 9,
      "id": "69ff6794-0e0d-4573-8f98-ee9dedcaabdf",
      "metadata": {
        "colab": {
          "base_uri": "https://localhost:8080/",
          "height": 300
        },
        "id": "69ff6794-0e0d-4573-8f98-ee9dedcaabdf",
        "outputId": "395748a4-2525-4363-bb37-ca186eb0cd7e"
      },
      "outputs": [
        {
          "output_type": "execute_result",
          "data": {
            "text/plain": [
              "              Open         High          Low        Close        Volume\n",
              "count  3019.000000  3019.000000  3019.000000  3019.000000  3.019000e+03\n",
              "mean     64.673309    65.256833    64.033445    64.662892  1.311457e+08\n",
              "std      44.524927    44.811772    44.230829    44.536448  1.018560e+08\n",
              "min       7.390000     7.560000     7.170000     7.240000  1.147592e+07\n",
              "25%      23.425000    23.805000    23.015000    23.420000  5.292889e+07\n",
              "50%      57.860000    58.460000    57.320000    57.920000  1.066271e+08\n",
              "75%      99.165000   100.275000    98.385000    99.480000  1.798977e+08\n",
              "max     175.110000   177.200000   174.860000   176.420000  8.432640e+08"
            ],
            "text/html": [
              "\n",
              "  <div id=\"df-f3776797-02e3-4a99-aa3e-981e4b7cc572\" class=\"colab-df-container\">\n",
              "    <div>\n",
              "<style scoped>\n",
              "    .dataframe tbody tr th:only-of-type {\n",
              "        vertical-align: middle;\n",
              "    }\n",
              "\n",
              "    .dataframe tbody tr th {\n",
              "        vertical-align: top;\n",
              "    }\n",
              "\n",
              "    .dataframe thead th {\n",
              "        text-align: right;\n",
              "    }\n",
              "</style>\n",
              "<table border=\"1\" class=\"dataframe\">\n",
              "  <thead>\n",
              "    <tr style=\"text-align: right;\">\n",
              "      <th></th>\n",
              "      <th>Open</th>\n",
              "      <th>High</th>\n",
              "      <th>Low</th>\n",
              "      <th>Close</th>\n",
              "      <th>Volume</th>\n",
              "    </tr>\n",
              "  </thead>\n",
              "  <tbody>\n",
              "    <tr>\n",
              "      <th>count</th>\n",
              "      <td>3019.000000</td>\n",
              "      <td>3019.000000</td>\n",
              "      <td>3019.000000</td>\n",
              "      <td>3019.000000</td>\n",
              "      <td>3.019000e+03</td>\n",
              "    </tr>\n",
              "    <tr>\n",
              "      <th>mean</th>\n",
              "      <td>64.673309</td>\n",
              "      <td>65.256833</td>\n",
              "      <td>64.033445</td>\n",
              "      <td>64.662892</td>\n",
              "      <td>1.311457e+08</td>\n",
              "    </tr>\n",
              "    <tr>\n",
              "      <th>std</th>\n",
              "      <td>44.524927</td>\n",
              "      <td>44.811772</td>\n",
              "      <td>44.230829</td>\n",
              "      <td>44.536448</td>\n",
              "      <td>1.018560e+08</td>\n",
              "    </tr>\n",
              "    <tr>\n",
              "      <th>min</th>\n",
              "      <td>7.390000</td>\n",
              "      <td>7.560000</td>\n",
              "      <td>7.170000</td>\n",
              "      <td>7.240000</td>\n",
              "      <td>1.147592e+07</td>\n",
              "    </tr>\n",
              "    <tr>\n",
              "      <th>25%</th>\n",
              "      <td>23.425000</td>\n",
              "      <td>23.805000</td>\n",
              "      <td>23.015000</td>\n",
              "      <td>23.420000</td>\n",
              "      <td>5.292889e+07</td>\n",
              "    </tr>\n",
              "    <tr>\n",
              "      <th>50%</th>\n",
              "      <td>57.860000</td>\n",
              "      <td>58.460000</td>\n",
              "      <td>57.320000</td>\n",
              "      <td>57.920000</td>\n",
              "      <td>1.066271e+08</td>\n",
              "    </tr>\n",
              "    <tr>\n",
              "      <th>75%</th>\n",
              "      <td>99.165000</td>\n",
              "      <td>100.275000</td>\n",
              "      <td>98.385000</td>\n",
              "      <td>99.480000</td>\n",
              "      <td>1.798977e+08</td>\n",
              "    </tr>\n",
              "    <tr>\n",
              "      <th>max</th>\n",
              "      <td>175.110000</td>\n",
              "      <td>177.200000</td>\n",
              "      <td>174.860000</td>\n",
              "      <td>176.420000</td>\n",
              "      <td>8.432640e+08</td>\n",
              "    </tr>\n",
              "  </tbody>\n",
              "</table>\n",
              "</div>\n",
              "    <div class=\"colab-df-buttons\">\n",
              "\n",
              "  <div class=\"colab-df-container\">\n",
              "    <button class=\"colab-df-convert\" onclick=\"convertToInteractive('df-f3776797-02e3-4a99-aa3e-981e4b7cc572')\"\n",
              "            title=\"Convert this dataframe to an interactive table.\"\n",
              "            style=\"display:none;\">\n",
              "\n",
              "  <svg xmlns=\"http://www.w3.org/2000/svg\" height=\"24px\" viewBox=\"0 -960 960 960\">\n",
              "    <path d=\"M120-120v-720h720v720H120Zm60-500h600v-160H180v160Zm220 220h160v-160H400v160Zm0 220h160v-160H400v160ZM180-400h160v-160H180v160Zm440 0h160v-160H620v160ZM180-180h160v-160H180v160Zm440 0h160v-160H620v160Z\"/>\n",
              "  </svg>\n",
              "    </button>\n",
              "\n",
              "  <style>\n",
              "    .colab-df-container {\n",
              "      display:flex;\n",
              "      gap: 12px;\n",
              "    }\n",
              "\n",
              "    .colab-df-convert {\n",
              "      background-color: #E8F0FE;\n",
              "      border: none;\n",
              "      border-radius: 50%;\n",
              "      cursor: pointer;\n",
              "      display: none;\n",
              "      fill: #1967D2;\n",
              "      height: 32px;\n",
              "      padding: 0 0 0 0;\n",
              "      width: 32px;\n",
              "    }\n",
              "\n",
              "    .colab-df-convert:hover {\n",
              "      background-color: #E2EBFA;\n",
              "      box-shadow: 0px 1px 2px rgba(60, 64, 67, 0.3), 0px 1px 3px 1px rgba(60, 64, 67, 0.15);\n",
              "      fill: #174EA6;\n",
              "    }\n",
              "\n",
              "    .colab-df-buttons div {\n",
              "      margin-bottom: 4px;\n",
              "    }\n",
              "\n",
              "    [theme=dark] .colab-df-convert {\n",
              "      background-color: #3B4455;\n",
              "      fill: #D2E3FC;\n",
              "    }\n",
              "\n",
              "    [theme=dark] .colab-df-convert:hover {\n",
              "      background-color: #434B5C;\n",
              "      box-shadow: 0px 1px 3px 1px rgba(0, 0, 0, 0.15);\n",
              "      filter: drop-shadow(0px 1px 2px rgba(0, 0, 0, 0.3));\n",
              "      fill: #FFFFFF;\n",
              "    }\n",
              "  </style>\n",
              "\n",
              "    <script>\n",
              "      const buttonEl =\n",
              "        document.querySelector('#df-f3776797-02e3-4a99-aa3e-981e4b7cc572 button.colab-df-convert');\n",
              "      buttonEl.style.display =\n",
              "        google.colab.kernel.accessAllowed ? 'block' : 'none';\n",
              "\n",
              "      async function convertToInteractive(key) {\n",
              "        const element = document.querySelector('#df-f3776797-02e3-4a99-aa3e-981e4b7cc572');\n",
              "        const dataTable =\n",
              "          await google.colab.kernel.invokeFunction('convertToInteractive',\n",
              "                                                    [key], {});\n",
              "        if (!dataTable) return;\n",
              "\n",
              "        const docLinkHtml = 'Like what you see? Visit the ' +\n",
              "          '<a target=\"_blank\" href=https://colab.research.google.com/notebooks/data_table.ipynb>data table notebook</a>'\n",
              "          + ' to learn more about interactive tables.';\n",
              "        element.innerHTML = '';\n",
              "        dataTable['output_type'] = 'display_data';\n",
              "        await google.colab.output.renderOutput(dataTable, element);\n",
              "        const docLink = document.createElement('div');\n",
              "        docLink.innerHTML = docLinkHtml;\n",
              "        element.appendChild(docLink);\n",
              "      }\n",
              "    </script>\n",
              "  </div>\n",
              "\n",
              "\n",
              "<div id=\"df-30317590-ea61-4029-9e9d-e8ffa7fb5527\">\n",
              "  <button class=\"colab-df-quickchart\" onclick=\"quickchart('df-30317590-ea61-4029-9e9d-e8ffa7fb5527')\"\n",
              "            title=\"Suggest charts\"\n",
              "            style=\"display:none;\">\n",
              "\n",
              "<svg xmlns=\"http://www.w3.org/2000/svg\" height=\"24px\"viewBox=\"0 0 24 24\"\n",
              "     width=\"24px\">\n",
              "    <g>\n",
              "        <path d=\"M19 3H5c-1.1 0-2 .9-2 2v14c0 1.1.9 2 2 2h14c1.1 0 2-.9 2-2V5c0-1.1-.9-2-2-2zM9 17H7v-7h2v7zm4 0h-2V7h2v10zm4 0h-2v-4h2v4z\"/>\n",
              "    </g>\n",
              "</svg>\n",
              "  </button>\n",
              "\n",
              "<style>\n",
              "  .colab-df-quickchart {\n",
              "      --bg-color: #E8F0FE;\n",
              "      --fill-color: #1967D2;\n",
              "      --hover-bg-color: #E2EBFA;\n",
              "      --hover-fill-color: #174EA6;\n",
              "      --disabled-fill-color: #AAA;\n",
              "      --disabled-bg-color: #DDD;\n",
              "  }\n",
              "\n",
              "  [theme=dark] .colab-df-quickchart {\n",
              "      --bg-color: #3B4455;\n",
              "      --fill-color: #D2E3FC;\n",
              "      --hover-bg-color: #434B5C;\n",
              "      --hover-fill-color: #FFFFFF;\n",
              "      --disabled-bg-color: #3B4455;\n",
              "      --disabled-fill-color: #666;\n",
              "  }\n",
              "\n",
              "  .colab-df-quickchart {\n",
              "    background-color: var(--bg-color);\n",
              "    border: none;\n",
              "    border-radius: 50%;\n",
              "    cursor: pointer;\n",
              "    display: none;\n",
              "    fill: var(--fill-color);\n",
              "    height: 32px;\n",
              "    padding: 0;\n",
              "    width: 32px;\n",
              "  }\n",
              "\n",
              "  .colab-df-quickchart:hover {\n",
              "    background-color: var(--hover-bg-color);\n",
              "    box-shadow: 0 1px 2px rgba(60, 64, 67, 0.3), 0 1px 3px 1px rgba(60, 64, 67, 0.15);\n",
              "    fill: var(--button-hover-fill-color);\n",
              "  }\n",
              "\n",
              "  .colab-df-quickchart-complete:disabled,\n",
              "  .colab-df-quickchart-complete:disabled:hover {\n",
              "    background-color: var(--disabled-bg-color);\n",
              "    fill: var(--disabled-fill-color);\n",
              "    box-shadow: none;\n",
              "  }\n",
              "\n",
              "  .colab-df-spinner {\n",
              "    border: 2px solid var(--fill-color);\n",
              "    border-color: transparent;\n",
              "    border-bottom-color: var(--fill-color);\n",
              "    animation:\n",
              "      spin 1s steps(1) infinite;\n",
              "  }\n",
              "\n",
              "  @keyframes spin {\n",
              "    0% {\n",
              "      border-color: transparent;\n",
              "      border-bottom-color: var(--fill-color);\n",
              "      border-left-color: var(--fill-color);\n",
              "    }\n",
              "    20% {\n",
              "      border-color: transparent;\n",
              "      border-left-color: var(--fill-color);\n",
              "      border-top-color: var(--fill-color);\n",
              "    }\n",
              "    30% {\n",
              "      border-color: transparent;\n",
              "      border-left-color: var(--fill-color);\n",
              "      border-top-color: var(--fill-color);\n",
              "      border-right-color: var(--fill-color);\n",
              "    }\n",
              "    40% {\n",
              "      border-color: transparent;\n",
              "      border-right-color: var(--fill-color);\n",
              "      border-top-color: var(--fill-color);\n",
              "    }\n",
              "    60% {\n",
              "      border-color: transparent;\n",
              "      border-right-color: var(--fill-color);\n",
              "    }\n",
              "    80% {\n",
              "      border-color: transparent;\n",
              "      border-right-color: var(--fill-color);\n",
              "      border-bottom-color: var(--fill-color);\n",
              "    }\n",
              "    90% {\n",
              "      border-color: transparent;\n",
              "      border-bottom-color: var(--fill-color);\n",
              "    }\n",
              "  }\n",
              "</style>\n",
              "\n",
              "  <script>\n",
              "    async function quickchart(key) {\n",
              "      const quickchartButtonEl =\n",
              "        document.querySelector('#' + key + ' button');\n",
              "      quickchartButtonEl.disabled = true;  // To prevent multiple clicks.\n",
              "      quickchartButtonEl.classList.add('colab-df-spinner');\n",
              "      try {\n",
              "        const charts = await google.colab.kernel.invokeFunction(\n",
              "            'suggestCharts', [key], {});\n",
              "      } catch (error) {\n",
              "        console.error('Error during call to suggestCharts:', error);\n",
              "      }\n",
              "      quickchartButtonEl.classList.remove('colab-df-spinner');\n",
              "      quickchartButtonEl.classList.add('colab-df-quickchart-complete');\n",
              "    }\n",
              "    (() => {\n",
              "      let quickchartButtonEl =\n",
              "        document.querySelector('#df-30317590-ea61-4029-9e9d-e8ffa7fb5527 button');\n",
              "      quickchartButtonEl.style.display =\n",
              "        google.colab.kernel.accessAllowed ? 'block' : 'none';\n",
              "    })();\n",
              "  </script>\n",
              "</div>\n",
              "\n",
              "    </div>\n",
              "  </div>\n"
            ],
            "application/vnd.google.colaboratory.intrinsic+json": {
              "type": "dataframe",
              "summary": "{\n  \"name\": \"df\",\n  \"rows\": 8,\n  \"fields\": [\n    {\n      \"column\": \"Open\",\n      \"properties\": {\n        \"dtype\": \"number\",\n        \"std\": 1044.8144016361414,\n        \"min\": 7.39,\n        \"max\": 3019.0,\n        \"num_unique_values\": 8,\n        \"samples\": [\n          64.67330904272939,\n          57.86,\n          3019.0\n        ],\n        \"semantic_type\": \"\",\n        \"description\": \"\"\n      }\n    },\n    {\n      \"column\": \"High\",\n      \"properties\": {\n        \"dtype\": \"number\",\n        \"std\": 1044.5812346228138,\n        \"min\": 7.56,\n        \"max\": 3019.0,\n        \"num_unique_values\": 8,\n        \"samples\": [\n          65.25683338853925,\n          58.46,\n          3019.0\n        ],\n        \"semantic_type\": \"\",\n        \"description\": \"\"\n      }\n    },\n    {\n      \"column\": \"Low\",\n      \"properties\": {\n        \"dtype\": \"number\",\n        \"std\": 1044.9715997870442,\n        \"min\": 7.17,\n        \"max\": 3019.0,\n        \"num_unique_values\": 8,\n        \"samples\": [\n          64.03344484928783,\n          57.32,\n          3019.0\n        ],\n        \"semantic_type\": \"\",\n        \"description\": \"\"\n      }\n    },\n    {\n      \"column\": \"Close\",\n      \"properties\": {\n        \"dtype\": \"number\",\n        \"std\": 1044.7590693252473,\n        \"min\": 7.24,\n        \"max\": 3019.0,\n        \"num_unique_values\": 8,\n        \"samples\": [\n          64.66289168598874,\n          57.92,\n          3019.0\n        ],\n        \"semantic_type\": \"\",\n        \"description\": \"\"\n      }\n    },\n    {\n      \"column\": \"Volume\",\n      \"properties\": {\n        \"dtype\": \"number\",\n        \"std\": 275349617.2388113,\n        \"min\": 3019.0,\n        \"max\": 843264044.0,\n        \"num_unique_values\": 8,\n        \"samples\": [\n          131145687.66379596,\n          106627080.0,\n          3019.0\n        ],\n        \"semantic_type\": \"\",\n        \"description\": \"\"\n      }\n    }\n  ]\n}"
            }
          },
          "metadata": {},
          "execution_count": 9
        }
      ],
      "source": [
        "df.describe()"
      ]
    },
    {
      "cell_type": "code",
      "execution_count": 10,
      "id": "2d4ebdb7-c504-4d4d-aa0a-4a60efa6ba8e",
      "metadata": {
        "colab": {
          "base_uri": "https://localhost:8080/"
        },
        "id": "2d4ebdb7-c504-4d4d-aa0a-4a60efa6ba8e",
        "outputId": "dca5347c-08e5-4d77-ee08-38118a6003d5"
      },
      "outputs": [
        {
          "output_type": "stream",
          "name": "stdout",
          "text": [
            "['Open', 'High', 'Low', 'Close', 'Volume']\n"
          ]
        }
      ],
      "source": [
        "print(df.columns.tolist())"
      ]
    },
    {
      "cell_type": "code",
      "execution_count": 11,
      "id": "3a45e6de-61f9-427c-b1a9-e3ee17d39934",
      "metadata": {
        "colab": {
          "base_uri": "https://localhost:8080/",
          "height": 631
        },
        "id": "3a45e6de-61f9-427c-b1a9-e3ee17d39934",
        "outputId": "c6792d2a-42fe-40b1-bc5f-8f192d6d274f"
      },
      "outputs": [
        {
          "output_type": "display_data",
          "data": {
            "text/plain": [
              "<Figure size 1600x1600 with 5 Axes>"
            ],
            "image/png": "[encoded data removed]"
          },
          "metadata": {}
        }
      ],
      "source": [
        "# boxplots of numerical features for outlier detection\n",
        "num_cols =df[['Open', 'High', 'Low', 'Close', 'Volume']]\n",
        "def box(df):\n",
        "    fig = plt.figure(figsize=(16,16))\n",
        "    for i in range(len(num_cols.columns)):\n",
        "        fig.add_subplot(4, 4, i+1)\n",
        "        sns.boxplot(y=num_cols.iloc[:,i])\n",
        "    plt.tight_layout()\n",
        "    plt.show()\n",
        "box(num_cols)"
      ]
    },
    {
      "cell_type": "code",
      "execution_count": 12,
      "id": "36a3df40-2d84-4d20-83fa-199c533d1ac5",
      "metadata": {
        "colab": {
          "base_uri": "https://localhost:8080/",
          "height": 543
        },
        "id": "36a3df40-2d84-4d20-83fa-199c533d1ac5",
        "outputId": "e8015eec-4f14-4bac-eed5-b205c1034f44"
      },
      "outputs": [
        {
          "output_type": "execute_result",
          "data": {
            "text/plain": [
              "<Axes: title={'center': 'Close price'}, xlabel='Date', ylabel='Close price'>"
            ]
          },
          "metadata": {},
          "execution_count": 12
        },
        {
          "output_type": "display_data",
          "data": {
            "text/plain": [
              "<Figure size 1500x600 with 1 Axes>"
            ],
            "image/png": "[encoded data removed]"
          },
          "metadata": {}
        }
      ],
      "source": [
        "# Visualizing Close price\n",
        "fig, ax = plt.subplots(figsize=(15,6))\n",
        "df[\"Close\"].plot(xlabel=\"Date\", ylabel=\"Close price\", title=\"Close price\",ax=ax)\n"
      ]
    },
    {
      "cell_type": "code",
      "execution_count": 13,
      "id": "0f9bc88e-c9f1-4316-b89c-51d331f29890",
      "metadata": {
        "id": "0f9bc88e-c9f1-4316-b89c-51d331f29890"
      },
      "outputs": [],
      "source": [
        "# Create a new dataframe with only the 'Close column\n",
        "df_close = df[['Close']]"
      ]
    },
    {
      "cell_type": "code",
      "execution_count": 14,
      "id": "a23e59f9-c964-4fbd-a3db-2b066e1ff27e",
      "metadata": {
        "id": "a23e59f9-c964-4fbd-a3db-2b066e1ff27e"
      },
      "outputs": [],
      "source": [
        "# define training and testing sets\n",
        "tstart = 2006\n",
        "tend = 2013\n",
        "def train_test_split(dataset, tstart, tend):\n",
        "    train = dataset.loc[f\"{tstart}\":f\"{tend}\", 'Close']\n",
        "    test = dataset.loc[f\"{tend+1}\":, 'Close']\n",
        "    return train, test\n",
        "\n",
        "def train_test_split_values(dataset, tstart, tend):\n",
        "    train, test =  train_test_split(dataset, tstart, tend)\n",
        "    return train.values, test.values\n",
        "\n",
        "training_set, test_set = train_test_split_values(df_close, tstart, tend)"
      ]
    },
    {
      "cell_type": "code",
      "execution_count": 15,
      "id": "be82c120-1690-4934-abc5-a2f59029f4d9",
      "metadata": {
        "colab": {
          "base_uri": "https://localhost:8080/",
          "height": 526
        },
        "id": "be82c120-1690-4934-abc5-a2f59029f4d9",
        "outputId": "fb74f4de-19c6-497c-de0c-48f62e45d84b"
      },
      "outputs": [
        {
          "output_type": "display_data",
          "data": {
            "text/plain": [
              "<Figure size 1500x600 with 1 Axes>"
            ],
            "image/png": "[encoded data removed]"
          },
          "metadata": {}
        }
      ],
      "source": [
        "# Visualize training and testing data\n",
        "def train_test_plot(dataset, tstart, tend):\n",
        "    dataset.loc[f\"{tstart}\":f\"{tend}\", 'Close'].plot(figsize=(15, 6), legend=True)\n",
        "    dataset.loc[f\"{tend+1}\":, 'Close'].plot(figsize=(15, 6), legend=True)\n",
        "    plt.legend([f\"Train (Before {tend+1})\", f\"Test ({tend+1} and beyond)\"])\n",
        "    plt.title(\"APPLE stock price\")\n",
        "    plt.show()\n",
        "\n",
        "train_test_plot(df_close,tstart,tend)"
      ]
    },
    {
      "cell_type": "code",
      "execution_count": 16,
      "id": "136112a4-d7e1-40f9-80c6-d1dcb0edfeb7",
      "metadata": {
        "id": "136112a4-d7e1-40f9-80c6-d1dcb0edfeb7"
      },
      "outputs": [],
      "source": [
        "# Scaling the training set\n",
        "sc = MinMaxScaler(feature_range=(0, 1))\n",
        "training_set = training_set.reshape(-1, 1)\n",
        "training_set_scaled = sc.fit_transform(training_set)"
      ]
    },
    {
      "cell_type": "code",
      "execution_count": 17,
      "id": "04d90c77-42dd-4a35-be36-963076942f4c",
      "metadata": {
        "id": "04d90c77-42dd-4a35-be36-963076942f4c"
      },
      "outputs": [],
      "source": [
        "# Split the training data into x_train and y_train data sets\n",
        "'''define a function split_sequence that takes two prameters,\n",
        "                    `sequence` which represent the input time series data,\n",
        "                            and `window` which represent the size of sequnce window to split the data'''\n",
        "def split_sequence(sequence, window):\n",
        "    X, y = list(), list()            # initialize empty lists, X and y to store the input and the target respectively\n",
        "    for i in range(len(sequence)):   # this loop iterates over the lenght of the input sequence\n",
        "        end_ix = i + window          # determine the sequence End Index\n",
        "        if end_ix > len(sequence) - 1:\n",
        "            break\n",
        "        seq_x, seq_y = sequence[i:end_ix], sequence[end_ix]\n",
        "        X.append(seq_x)\n",
        "        y.append(seq_y)\n",
        "    return np.array(X), np.array(y)    # Convert the x_train and y_train to numpy arrays\n",
        "\n",
        "window_size = 60\n",
        "features = 1\n",
        "\n",
        "X_train, y_train = split_sequence(training_set_scaled, window_size)"
      ]
    },
    {
      "cell_type": "code",
      "execution_count": 18,
      "id": "cd1092fb-3295-41b4-81ea-decea7aa2de1",
      "metadata": {
        "id": "cd1092fb-3295-41b4-81ea-decea7aa2de1"
      },
      "outputs": [],
      "source": [
        "# Reshape the data\n",
        "X_train = X_train.reshape(X_train.shape[0],X_train.shape[1],features)"
      ]
    },
    {
      "cell_type": "code",
      "execution_count": 19,
      "id": "f99d62ea-d2f5-40e8-b372-87bbd00b322c",
      "metadata": {
        "id": "f99d62ea-d2f5-40e8-b372-87bbd00b322c"
      },
      "outputs": [],
      "source": [
        "# Split the test data into x_test and y_test data sets\n",
        "inputs = df_close[len(df_close) - len(test_set) - window_size :].values\n",
        "inputs = inputs.reshape(-1, 1)\n",
        "inputs = sc.transform(inputs)"
      ]
    },
    {
      "cell_type": "code",
      "execution_count": 20,
      "id": "475a1926-88a2-496c-a9e4-441571b32068",
      "metadata": {
        "id": "475a1926-88a2-496c-a9e4-441571b32068"
      },
      "outputs": [],
      "source": [
        "X_test, y_test = split_sequence(inputs, window_size)\n",
        "X_test = X_test.reshape(X_test.shape[0], X_test.shape[1], features)"
      ]
    },
    {
      "cell_type": "markdown",
      "id": "16917713-db19-4e05-9c4a-950e558639b0",
      "metadata": {
        "id": "16917713-db19-4e05-9c4a-950e558639b0"
      },
      "source": [
        "## LTSM"
      ]
    },
    {
      "cell_type": "code",
      "execution_count": 21,
      "id": "ce3ed131-0e36-49e7-b616-e823f5faba61",
      "metadata": {
        "colab": {
          "base_uri": "https://localhost:8080/"
        },
        "id": "ce3ed131-0e36-49e7-b616-e823f5faba61",
        "outputId": "4f0e47d3-7194-4f70-833c-b388e84b0e8e"
      },
      "outputs": [
        {
          "output_type": "stream",
          "name": "stdout",
          "text": [
            "Model: \"sequential\"\n",
            "_________________________________________________________________\n",
            " Layer (type)                Output Shape              Param #   \n",
            "=================================================================\n",
            " lstm (LSTM)                 (None, 125)               63500     \n",
            "                                                                 \n",
            " dense (Dense)               (None, 25)                3150      \n",
            "                                                                 \n",
            " dense_1 (Dense)             (None, 1)                 26        \n",
            "                                                                 \n",
            "=================================================================\n",
            "Total params: 66676 (260.45 KB)\n",
            "Trainable params: 66676 (260.45 KB)\n",
            "Non-trainable params: 0 (0.00 Byte)\n",
            "_________________________________________________________________\n"
          ]
        }
      ],
      "source": [
        "# create LSTM model\n",
        "model_lstm = Sequential()\n",
        "model_lstm.add(LSTM(units=125, activation=\"tanh\", input_shape=(window_size, features)))\n",
        "model_lstm.add(Dense(25))\n",
        "model_lstm.add(Dense(units=1))\n",
        "\n",
        "model_lstm.compile(optimizer='adam', loss='mse')\n",
        "\n",
        "model_lstm.summary()"
      ]
    },
    {
      "cell_type": "code",
      "execution_count": 22,
      "id": "68446bf3-b52a-4538-ab8d-61b7e1ef5fdb",
      "metadata": {
        "colab": {
          "base_uri": "https://localhost:8080/"
        },
        "id": "68446bf3-b52a-4538-ab8d-61b7e1ef5fdb",
        "outputId": "309427e8-e7b1-4a2a-e2b2-5b759c4de5e7"
      },
      "outputs": [
        {
          "output_type": "stream",
          "name": "stdout",
          "text": [
            "Epoch 1/15\n",
            "61/61 [==============================] - 13s 128ms/step - loss: 0.0102\n",
            "Epoch 2/15\n",
            "61/61 [==============================] - 5s 75ms/step - loss: 3.0841e-04\n",
            "Epoch 3/15\n",
            "61/61 [==============================] - 3s 56ms/step - loss: 3.2498e-04\n",
            "Epoch 4/15\n",
            "61/61 [==============================] - 3s 57ms/step - loss: 2.9396e-04\n",
            "Epoch 5/15\n",
            "61/61 [==============================] - 5s 81ms/step - loss: 2.7441e-04\n",
            "Epoch 6/15\n",
            "61/61 [==============================] - 4s 57ms/step - loss: 2.6692e-04\n",
            "Epoch 7/15\n",
            "61/61 [==============================] - 3s 57ms/step - loss: 2.7429e-04\n",
            "Epoch 8/15\n",
            "61/61 [==============================] - 5s 82ms/step - loss: 2.4600e-04\n",
            "Epoch 9/15\n",
            "61/61 [==============================] - 3s 57ms/step - loss: 2.3668e-04\n",
            "Epoch 10/15\n",
            "61/61 [==============================] - 3s 57ms/step - loss: 2.4729e-04\n",
            "Epoch 11/15\n",
            "61/61 [==============================] - 4s 73ms/step - loss: 2.3236e-04\n",
            "Epoch 12/15\n",
            "61/61 [==============================] - 4s 63ms/step - loss: 2.1765e-04\n",
            "Epoch 13/15\n",
            "61/61 [==============================] - 4s 57ms/step - loss: 2.3892e-04\n",
            "Epoch 14/15\n",
            "61/61 [==============================] - 4s 58ms/step - loss: 2.1989e-04\n",
            "Epoch 15/15\n",
            "61/61 [==============================] - 5s 79ms/step - loss: 2.1050e-04\n"
          ]
        },
        {
          "output_type": "execute_result",
          "data": {
            "text/plain": [
              "<keras.src.callbacks.History at 0x7b31807dc940>"
            ]
          },
          "metadata": {},
          "execution_count": 22
        }
      ],
      "source": [
        "# Fit the model\n",
        "model_lstm.fit(X_train, y_train, epochs=15, batch_size=32)"
      ]
    },
    {
      "cell_type": "code",
      "execution_count": 23,
      "id": "34d5ccb2-a967-44a9-be2b-dfef3e605e34",
      "metadata": {
        "colab": {
          "base_uri": "https://localhost:8080/"
        },
        "id": "34d5ccb2-a967-44a9-be2b-dfef3e605e34",
        "outputId": "2ca10a0a-7263-4af5-b78f-d9a075f12369"
      },
      "outputs": [
        {
          "output_type": "stream",
          "name": "stdout",
          "text": [
            "32/32 [==============================] - 1s 25ms/step\n"
          ]
        }
      ],
      "source": [
        "# Make predictions\n",
        "predicted_stock_price = model_lstm.predict(X_test)\n",
        "predicted_stock_price = sc.inverse_transform(predicted_stock_price)\n",
        "y_test = sc.inverse_transform(y_test)"
      ]
    },
    {
      "cell_type": "code",
      "execution_count": 24,
      "id": "ed3fa873-58cf-44df-bb47-63944a435dc1",
      "metadata": {
        "id": "ed3fa873-58cf-44df-bb47-63944a435dc1"
      },
      "outputs": [],
      "source": [
        "# View results\n",
        "def plot_predictions(test, predicted):\n",
        "    plt.plot(test, color=\"gray\", label=\"Real\")\n",
        "    plt.plot(predicted, color=\"red\", label=\"Predicted\")\n",
        "    plt.title(\"Stock Price Prediction\")\n",
        "    plt.xlabel(\"Time\")\n",
        "    plt.ylabel(\"Stock Price\")\n",
        "    plt.legend()\n",
        "    plt.show()\n",
        "\n",
        "# Calculate RMSE\n",
        "def return_rmse(test, predicted):\n",
        "    rmse = np.sqrt(mean_squared_error(test, predicted))\n",
        "    print(\"The root mean squared error is {:.2f}.\".format(rmse))"
      ]
    },
    {
      "cell_type": "code",
      "execution_count": 25,
      "id": "11b399f2-9769-4ed7-9a17-0423977d5bf5",
      "metadata": {
        "colab": {
          "base_uri": "https://localhost:8080/",
          "height": 472
        },
        "id": "11b399f2-9769-4ed7-9a17-0423977d5bf5",
        "outputId": "a054b581-b813-466a-c77f-f64364263c36"
      },
      "outputs": [
        {
          "output_type": "display_data",
          "data": {
            "text/plain": [
              "<Figure size 640x480 with 1 Axes>"
            ],
            "image/png": "[encoded data removed]"
          },
          "metadata": {}
        }
      ],
      "source": [
        "plot_predictions(y_test,predicted_stock_price)"
      ]
    },
    {
      "cell_type": "code",
      "execution_count": 26,
      "id": "affc33c8-9a4c-4740-b568-71a40736302b",
      "metadata": {
        "colab": {
          "base_uri": "https://localhost:8080/"
        },
        "id": "affc33c8-9a4c-4740-b568-71a40736302b",
        "outputId": "fa300bf5-e78d-4d21-9125-36753c5b6b03"
      },
      "outputs": [
        {
          "output_type": "stream",
          "name": "stdout",
          "text": [
            "The root mean squared error is 3.84.\n"
          ]
        }
      ],
      "source": [
        "return_rmse(y_test,predicted_stock_price)"
      ]
    },
    {
      "cell_type": "markdown",
      "id": "93e81f47-97bb-4186-a6d1-7eeb2437ee0c",
      "metadata": {
        "id": "93e81f47-97bb-4186-a6d1-7eeb2437ee0c"
      },
      "source": [
        "## GRU"
      ]
    },
    {
      "cell_type": "code",
      "execution_count": 27,
      "id": "210ef5a3-cbd9-4817-8522-65186c79a2aa",
      "metadata": {
        "colab": {
          "base_uri": "https://localhost:8080/"
        },
        "id": "210ef5a3-cbd9-4817-8522-65186c79a2aa",
        "outputId": "b7b44dca-27e7-40ea-90ef-9cc9f58d0997"
      },
      "outputs": [
        {
          "output_type": "stream",
          "name": "stdout",
          "text": [
            "Model: \"sequential_1\"\n",
            "_________________________________________________________________\n",
            " Layer (type)                Output Shape              Param #   \n",
            "=================================================================\n",
            " gru (GRU)                   (None, 125)               48000     \n",
            "                                                                 \n",
            " dense_2 (Dense)             (None, 1)                 126       \n",
            "                                                                 \n",
            "=================================================================\n",
            "Total params: 48126 (187.99 KB)\n",
            "Trainable params: 48126 (187.99 KB)\n",
            "Non-trainable params: 0 (0.00 Byte)\n",
            "_________________________________________________________________\n"
          ]
        }
      ],
      "source": [
        "model_gru = Sequential()\n",
        "model_gru.add(GRU(units=125, activation=\"tanh\", input_shape=(window_size, features)))\n",
        "model_gru.add(Dense(units=1))\n",
        "\n",
        "model_gru.compile(optimizer=\"adam\", loss=\"mse\")\n",
        "\n",
        "model_gru.summary()"
      ]
    },
    {
      "cell_type": "code",
      "execution_count": 28,
      "id": "61e4a64f-805f-4767-83bd-bbe1dbdc16f5",
      "metadata": {
        "colab": {
          "base_uri": "https://localhost:8080/"
        },
        "id": "61e4a64f-805f-4767-83bd-bbe1dbdc16f5",
        "outputId": "f10ccccd-5da2-4351-eb99-3f0dc428563d"
      },
      "outputs": [
        {
          "output_type": "stream",
          "name": "stdout",
          "text": [
            "Epoch 1/10\n",
            "61/61 [==============================] - 4s 42ms/step - loss: 0.0092\n",
            "Epoch 2/10\n",
            "61/61 [==============================] - 3s 43ms/step - loss: 1.6906e-04\n",
            "Epoch 3/10\n",
            "61/61 [==============================] - 5s 79ms/step - loss: 1.5764e-04\n",
            "Epoch 4/10\n",
            "61/61 [==============================] - 3s 45ms/step - loss: 1.5882e-04\n",
            "Epoch 5/10\n",
            "61/61 [==============================] - 3s 42ms/step - loss: 1.5497e-04\n",
            "Epoch 6/10\n",
            "61/61 [==============================] - 3s 41ms/step - loss: 1.4291e-04\n",
            "Epoch 7/10\n",
            "61/61 [==============================] - 3s 41ms/step - loss: 1.3974e-04\n",
            "Epoch 8/10\n",
            "61/61 [==============================] - 5s 75ms/step - loss: 1.3022e-04\n",
            "Epoch 9/10\n",
            "61/61 [==============================] - 3s 41ms/step - loss: 1.2823e-04\n",
            "Epoch 10/10\n",
            "61/61 [==============================] - 3s 41ms/step - loss: 1.3176e-04\n"
          ]
        },
        {
          "output_type": "execute_result",
          "data": {
            "text/plain": [
              "<keras.src.callbacks.History at 0x7b318113d900>"
            ]
          },
          "metadata": {},
          "execution_count": 28
        }
      ],
      "source": [
        "model_gru.fit(X_train, y_train, epochs=10, batch_size=32)"
      ]
    },
    {
      "cell_type": "code",
      "execution_count": 29,
      "id": "c4905811-ca11-47ce-891e-59361290bffc",
      "metadata": {
        "colab": {
          "base_uri": "https://localhost:8080/"
        },
        "id": "c4905811-ca11-47ce-891e-59361290bffc",
        "outputId": "6f42b272-77c0-4e27-e545-fe4f44a2c6fe"
      },
      "outputs": [
        {
          "output_type": "stream",
          "name": "stdout",
          "text": [
            "32/32 [==============================] - 1s 15ms/step\n"
          ]
        }
      ],
      "source": [
        "GRU_predicted_stock_price = model_gru.predict(X_test)\n",
        "GRU_predicted_stock_price = sc.inverse_transform(GRU_predicted_stock_price)"
      ]
    },
    {
      "cell_type": "code",
      "execution_count": 31,
      "id": "ca61710a-81c4-4986-9406-15fb7f254030",
      "metadata": {
        "colab": {
          "base_uri": "https://localhost:8080/",
          "height": 472
        },
        "id": "ca61710a-81c4-4986-9406-15fb7f254030",
        "outputId": "089ee927-db32-4ae6-ce01-2a6defea0e6a"
      },
      "outputs": [
        {
          "output_type": "display_data",
          "data": {
            "text/plain": [
              "<Figure size 640x480 with 1 Axes>"
            ],
            "image/png": "[encoded data removed]"
          },
          "metadata": {}
        }
      ],
      "source": [
        "plot_predictions(y_test, GRU_predicted_stock_price)"
      ]
    },
    {
      "cell_type": "code",
      "execution_count": 30,
      "id": "d2d0b1b7-0698-484a-a928-0e2da7faffe4",
      "metadata": {
        "colab": {
          "base_uri": "https://localhost:8080/"
        },
        "id": "d2d0b1b7-0698-484a-a928-0e2da7faffe4",
        "outputId": "2f72fd19-cf0a-4d43-a868-15de133d61d0"
      },
      "outputs": [
        {
          "output_type": "stream",
          "name": "stdout",
          "text": [
            "The root mean squared error is 2.41.\n"
          ]
        }
      ],
      "source": [
        "return_rmse(y_test,GRU_predicted_stock_price)"
      ]
    }
  ],
  "metadata": {
    "kernelspec": {
      "display_name": "Python 3 (ipykernel)",
      "language": "python",
      "name": "python3"
    },
    "language_info": {
      "codemirror_mode": {
        "name": "ipython",
        "version": 3
      },
      "file_extension": ".py",
      "mimetype": "text/x-python",
      "name": "python",
      "nbconvert_exporter": "python",
      "pygments_lexer": "ipython3",
      "version": "3.11.7"
    },
    "colab": {
      "provenance": []
    }
  },
  "nbformat": 4,
  "nbformat_minor": 5
}